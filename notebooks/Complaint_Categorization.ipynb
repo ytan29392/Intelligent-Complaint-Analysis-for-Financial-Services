{
 "cells": [
  {
   "cell_type": "markdown",
   "id": "f0f162d7",
   "metadata": {},
   "source": [
    "Import"
   ]
  },
  {
   "cell_type": "code",
   "execution_count": 8,
   "id": "1f46806c",
   "metadata": {},
   "outputs": [],
   "source": [
    "import pandas as pd\n",
    "import sys\n",
    "sys.path.append('../scripts')\n",
    "\n",
    "from categorization import vectorize_text, train_classifier"
   ]
  },
  {
   "cell_type": "markdown",
   "id": "1bcb2dfd",
   "metadata": {},
   "source": [
    "Load"
   ]
  },
  {
   "cell_type": "code",
   "execution_count": 9,
   "id": "44373db5",
   "metadata": {},
   "outputs": [],
   "source": [
    "df = pd.read_csv('../data/complaints_cleaned.csv')"
   ]
  },
  {
   "cell_type": "markdown",
   "id": "a78ea23c",
   "metadata": {},
   "source": [
    "Define Features and Labels"
   ]
  },
  {
   "cell_type": "code",
   "execution_count": 10,
   "id": "ed644d8b",
   "metadata": {},
   "outputs": [],
   "source": [
    "X_text = df['cleaned_complaint']\n",
    "y = df['Product']  # You can choose 'Issue' or other columns too\n",
    "X, vectorizer = vectorize_text(X_text)"
   ]
  },
  {
   "cell_type": "markdown",
   "id": "d1c7e2a8",
   "metadata": {},
   "source": [
    "Train Classifier"
   ]
  },
  {
   "cell_type": "code",
   "execution_count": null,
   "id": "bba7a62d",
   "metadata": {},
   "outputs": [],
   "source": [
    "model, report = train_classifier(X, y)\n",
    "print(report)"
   ]
  }
 ],
 "metadata": {
  "kernelspec": {
   "display_name": "venv (3.11.9)",
   "language": "python",
   "name": "python3"
  },
  "language_info": {
   "codemirror_mode": {
    "name": "ipython",
    "version": 3
   },
   "file_extension": ".py",
   "mimetype": "text/x-python",
   "name": "python",
   "nbconvert_exporter": "python",
   "pygments_lexer": "ipython3",
   "version": "3.11.9"
  }
 },
 "nbformat": 4,
 "nbformat_minor": 5
}

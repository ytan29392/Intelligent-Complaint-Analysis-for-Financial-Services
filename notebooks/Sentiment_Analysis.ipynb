{
 "cells": [
  {
   "cell_type": "markdown",
   "id": "1ea52047",
   "metadata": {},
   "source": [
    "Import "
   ]
  },
  {
   "cell_type": "code",
   "execution_count": 1,
   "id": "52831ef0",
   "metadata": {},
   "outputs": [],
   "source": [
    "import pandas as pd\n",
    "import matplotlib.pyplot as plt\n",
    "import seaborn as sns\n",
    "import sys\n",
    "sys.path.append('../scripts')\n",
    "\n",
    "from sentiment import get_sentiment"
   ]
  },
  {
   "cell_type": "markdown",
   "id": "7afeff5e",
   "metadata": {},
   "source": [
    "Load Cleaned Data"
   ]
  },
  {
   "cell_type": "code",
   "execution_count": 2,
   "id": "254d6736",
   "metadata": {},
   "outputs": [],
   "source": [
    "df = pd.read_csv('../data/complaints_cleaned.csv')"
   ]
  },
  {
   "cell_type": "markdown",
   "id": "c8d4a6e9",
   "metadata": {},
   "source": [
    "Apply Sentiment Analysis"
   ]
  },
  {
   "cell_type": "code",
   "execution_count": 3,
   "id": "0bac0d43",
   "metadata": {},
   "outputs": [],
   "source": [
    "df['sentiment'] = df['cleaned_complaint'].apply(get_sentiment)"
   ]
  },
  {
   "cell_type": "markdown",
   "id": "cb8eb0c6",
   "metadata": {},
   "source": [
    "Visualize Sentiment Distribution"
   ]
  },
  {
   "cell_type": "code",
   "execution_count": 4,
   "id": "e7c06dfc",
   "metadata": {},
   "outputs": [
    {
     "name": "stderr",
     "output_type": "stream",
     "text": [
      "C:\\Users\\yo\\AppData\\Local\\Temp\\ipykernel_10516\\1209498737.py:2: FutureWarning: \n",
      "\n",
      "Passing `palette` without assigning `hue` is deprecated and will be removed in v0.14.0. Assign the `x` variable to `hue` and set `legend=False` for the same effect.\n",
      "\n",
      "  sns.countplot(x='sentiment', data=df, palette='coolwarm')\n"
     ]
    },
    {
     "data": {
      "image/png": "[encoded data removed]",
      "text/plain": [
       "<Figure size 800x600 with 1 Axes>"
      ]
     },
     "metadata": {},
     "output_type": "display_data"
    }
   ],
   "source": [
    "plt.figure(figsize=(8,6))\n",
    "sns.countplot(x='sentiment', data=df, palette='coolwarm')\n",
    "plt.title('Sentiment Distribution of Complaints')\n",
    "plt.xlabel('Sentiment')\n",
    "plt.ylabel('Number of Complaints')\n",
    "plt.show()"
   ]
  },
  {
   "cell_type": "markdown",
   "id": "53a93c3d",
   "metadata": {},
   "source": [
    "Save Sentiment Data"
   ]
  },
  {
   "cell_type": "code",
   "execution_count": 5,
   "id": "ac2c86fd",
   "metadata": {},
   "outputs": [],
   "source": [
    "df.to_csv('../data/complaints_with_sentiment.csv', index=False)"
   ]
  },
  {
   "cell_type": "markdown",
   "id": "d2bf9ea8",
   "metadata": {},
   "source": [
    "Preview"
   ]
  },
  {
   "cell_type": "code",
   "execution_count": 6,
   "id": "146f9406",
   "metadata": {},
   "outputs": [
    {
     "data": {
      "text/html": [
       "<div>\n",
       "<style scoped>\n",
       "    .dataframe tbody tr th:only-of-type {\n",
       "        vertical-align: middle;\n",
       "    }\n",
       "\n",
       "    .dataframe tbody tr th {\n",
       "        vertical-align: top;\n",
       "    }\n",
       "\n",
       "    .dataframe thead th {\n",
       "        text-align: right;\n",
       "    }\n",
       "</style>\n",
       "<table border=\"1\" class=\"dataframe\">\n",
       "  <thead>\n",
       "    <tr style=\"text-align: right;\">\n",
       "      <th></th>\n",
       "      <th>cleaned_complaint</th>\n",
       "      <th>sentiment</th>\n",
       "    </tr>\n",
       "  </thead>\n",
       "  <tbody>\n",
       "    <tr>\n",
       "      <th>0</th>\n",
       "      <td>xxxx xxxx xxxx xxxx xxxx xxxx xxxx xxxx apt xx...</td>\n",
       "      <td>Positive</td>\n",
       "    </tr>\n",
       "    <tr>\n",
       "      <th>1</th>\n",
       "      <td>subject dispute unauthorized hard inquiries cr...</td>\n",
       "      <td>Neutral</td>\n",
       "    </tr>\n",
       "    <tr>\n",
       "      <th>2</th>\n",
       "      <td>signed purchase agreement lennar corporation x...</td>\n",
       "      <td>Neutral</td>\n",
       "    </tr>\n",
       "    <tr>\n",
       "      <th>3</th>\n",
       "      <td>checking report found numerous accounts never ...</td>\n",
       "      <td>Neutral</td>\n",
       "    </tr>\n",
       "    <tr>\n",
       "      <th>4</th>\n",
       "      <td>xxxx xxxx card opened name fraudster received ...</td>\n",
       "      <td>Negative</td>\n",
       "    </tr>\n",
       "  </tbody>\n",
       "</table>\n",
       "</div>"
      ],
      "text/plain": [
       "                                   cleaned_complaint sentiment\n",
       "0  xxxx xxxx xxxx xxxx xxxx xxxx xxxx xxxx apt xx...  Positive\n",
       "1  subject dispute unauthorized hard inquiries cr...   Neutral\n",
       "2  signed purchase agreement lennar corporation x...   Neutral\n",
       "3  checking report found numerous accounts never ...   Neutral\n",
       "4  xxxx xxxx card opened name fraudster received ...  Negative"
      ]
     },
     "execution_count": 6,
     "metadata": {},
     "output_type": "execute_result"
    }
   ],
   "source": [
    "df[['cleaned_complaint', 'sentiment']].head()"
   ]
  }
 ],
 "metadata": {
  "kernelspec": {
   "display_name": "venv (3.11.9)",
   "language": "python",
   "name": "python3"
  },
  "language_info": {
   "codemirror_mode": {
    "name": "ipython",
    "version": 3
   },
   "file_extension": ".py",
   "mimetype": "text/x-python",
   "name": "python",
   "nbconvert_exporter": "python",
   "pygments_lexer": "ipython3",
   "version": "3.11.9"
  }
 },
 "nbformat": 4,
 "nbformat_minor": 5
}

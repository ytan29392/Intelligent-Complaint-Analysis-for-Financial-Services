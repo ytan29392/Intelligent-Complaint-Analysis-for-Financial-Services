{
 "cells": [
  {
   "cell_type": "markdown",
   "id": "fa20e873",
   "metadata": {},
   "source": [
    "Import"
   ]
  },
  {
   "cell_type": "code",
   "execution_count": null,
   "id": "a32113b2",
   "metadata": {},
   "outputs": [],
   "source": [
    "import pandas as pd\n",
    "import sys\n",
    "sys.path.append('../scripts')\n",
    "\n",
    "from preprocessing import clean_text"
   ]
  },
  {
   "cell_type": "markdown",
   "id": "61463635",
   "metadata": {},
   "source": [
    "Load Data"
   ]
  },
  {
   "cell_type": "code",
   "execution_count": null,
   "id": "08f5cccb",
   "metadata": {},
   "outputs": [],
   "source": [
    "df = pd.read_csv('../data/complaints.csv')\n",
    "\n",
    "df.head()"
   ]
  },
  {
   "cell_type": "markdown",
   "id": "4aaa9056",
   "metadata": {},
   "source": [
    "Process and save"
   ]
  },
  {
   "cell_type": "markdown",
   "id": "7dbc565e",
   "metadata": {},
   "source": [
    "# Handle Missing Values\n",
    "df = df.dropna(subset=['complaint'])\n",
    "\n",
    "# Clean Text\n",
    "df['cleaned_complaint'] = df['complaint'].apply(clean_text)\n",
    "\n",
    "# Save cleaned data (optional)\n",
    "df.to_csv('../data/complaints_cleaned.csv', index=False)\n",
    "\n",
    "df[['complaint', 'cleaned_complaint']].head()"
   ]
  }
 ],
 "metadata": {
  "kernelspec": {
   "display_name": "venv (3.11.9)",
   "language": "python",
   "name": "python3"
  },
  "language_info": {
   "name": "python",
   "version": "3.11.9"
  }
 },
 "nbformat": 4,
 "nbformat_minor": 5
}

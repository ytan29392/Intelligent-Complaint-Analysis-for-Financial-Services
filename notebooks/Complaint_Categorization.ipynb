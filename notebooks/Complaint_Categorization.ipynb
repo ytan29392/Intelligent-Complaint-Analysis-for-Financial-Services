{
 "cells": [
  {
   "cell_type": "markdown",
   "id": "f0f162d7",
   "metadata": {},
   "source": [
    "Import"
   ]
  },
  {
   "cell_type": "code",
   "execution_count": 13,
   "id": "1f46806c",
   "metadata": {},
   "outputs": [],
   "source": [
    "import pandas as pd\n",
    "import sys\n",
    "sys.path.append('../scripts')\n",
    "\n",
    "from categorization import vectorize_text, train_classifier"
   ]
  },
  {
   "cell_type": "markdown",
   "id": "1bcb2dfd",
   "metadata": {},
   "source": [
    "Load"
   ]
  },
  {
   "cell_type": "code",
   "execution_count": 14,
   "id": "44373db5",
   "metadata": {},
   "outputs": [],
   "source": [
    "df = pd.read_csv('../data/complaints_cleaned.csv')"
   ]
  },
  {
   "cell_type": "markdown",
   "id": "a78ea23c",
   "metadata": {},
   "source": [
    "Define Features and Labels"
   ]
  },
  {
   "cell_type": "code",
   "execution_count": 15,
   "id": "ed644d8b",
   "metadata": {},
   "outputs": [],
   "source": [
    "X_text = df['cleaned_complaint']\n",
    "y = df['Product']\n",
    "X, vectorizer = vectorize_text(X_text)"
   ]
  },
  {
   "cell_type": "markdown",
   "id": "d1c7e2a8",
   "metadata": {},
   "source": [
    "Train Classifier"
   ]
  },
  {
   "cell_type": "code",
   "execution_count": 16,
   "id": "bba7a62d",
   "metadata": {},
   "outputs": [
    {
     "name": "stderr",
     "output_type": "stream",
     "text": [
      "e:\\kaim projec\\Intelligent Complaint Analysis for Financial Services\\venv\\Lib\\site-packages\\sklearn\\metrics\\_classification.py:1706: UndefinedMetricWarning: Precision is ill-defined and being set to 0.0 in labels with no predicted samples. Use `zero_division` parameter to control this behavior.\n",
      "  _warn_prf(average, modifier, f\"{metric.capitalize()} is\", result.shape[0])\n",
      "e:\\kaim projec\\Intelligent Complaint Analysis for Financial Services\\venv\\Lib\\site-packages\\sklearn\\metrics\\_classification.py:1706: UndefinedMetricWarning: Precision is ill-defined and being set to 0.0 in labels with no predicted samples. Use `zero_division` parameter to control this behavior.\n",
      "  _warn_prf(average, modifier, f\"{metric.capitalize()} is\", result.shape[0])\n"
     ]
    },
    {
     "name": "stdout",
     "output_type": "stream",
     "text": [
      "                                                                              precision    recall  f1-score   support\n",
      "\n",
      "                                                     Bank account or service       0.00      0.00      0.00         4\n",
      "                                                 Checking or savings account       0.79      0.84      0.82      1126\n",
      "                                                               Consumer Loan       0.00      0.00      0.00         7\n",
      "                                                                 Credit card       0.75      0.69      0.72       895\n",
      "                                                 Credit card or prepaid card       0.00      0.00      0.00         7\n",
      "                                                            Credit reporting       0.00      0.00      0.00        15\n",
      "                         Credit reporting or other personal consumer reports       0.95      0.98      0.96     22259\n",
      "Credit reporting, credit repair services, or other personal consumer reports       0.00      0.00      0.00        32\n",
      "                                                             Debt collection       0.78      0.63      0.70      1922\n",
      "                                                   Debt or credit management       1.00      0.04      0.08        50\n",
      "                          Money transfer, virtual currency, or money service       0.94      0.92      0.93      1881\n",
      "                                                             Money transfers       0.00      0.00      0.00         1\n",
      "                                                                    Mortgage       0.88      0.77      0.82       338\n",
      "                                   Payday loan, title loan, or personal loan       0.00      0.00      0.00         1\n",
      "                     Payday loan, title loan, personal loan, or advance loan       0.74      0.27      0.40       154\n",
      "                                                                Prepaid card       0.87      0.32      0.47        63\n",
      "                                                                Student loan       0.80      0.66      0.72       271\n",
      "                                                       Vehicle loan or lease       0.69      0.52      0.59       212\n",
      "\n",
      "                                                                    accuracy                           0.92     29238\n",
      "                                                                   macro avg       0.51      0.37      0.40     29238\n",
      "                                                                weighted avg       0.92      0.92      0.92     29238\n",
      "\n"
     ]
    },
    {
     "name": "stderr",
     "output_type": "stream",
     "text": [
      "e:\\kaim projec\\Intelligent Complaint Analysis for Financial Services\\venv\\Lib\\site-packages\\sklearn\\metrics\\_classification.py:1706: UndefinedMetricWarning: Precision is ill-defined and being set to 0.0 in labels with no predicted samples. Use `zero_division` parameter to control this behavior.\n",
      "  _warn_prf(average, modifier, f\"{metric.capitalize()} is\", result.shape[0])\n"
     ]
    }
   ],
   "source": [
    "model, report = train_classifier(X, y)\n",
    "print(report)"
   ]
  }
 ],
 "metadata": {
  "kernelspec": {
   "display_name": "venv (3.11.9)",
   "language": "python",
   "name": "python3"
  },
  "language_info": {
   "codemirror_mode": {
    "name": "ipython",
    "version": 3
   },
   "file_extension": ".py",
   "mimetype": "text/x-python",
   "name": "python",
   "nbconvert_exporter": "python",
   "pygments_lexer": "ipython3",
   "version": "3.11.9"
  }
 },
 "nbformat": 4,
 "nbformat_minor": 5
}
